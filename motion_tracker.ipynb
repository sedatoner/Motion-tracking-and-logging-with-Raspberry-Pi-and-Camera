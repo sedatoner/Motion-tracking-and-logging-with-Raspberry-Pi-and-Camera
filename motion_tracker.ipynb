{
  "nbformat": 4,
  "nbformat_minor": 0,
  "metadata": {
    "colab": {
      "provenance": [],
      "authorship_tag": "ABX9TyPR2TNxUjaPE0g2jX0SZx7q",
      "include_colab_link": true
    },
    "kernelspec": {
      "name": "python3",
      "display_name": "Python 3"
    },
    "language_info": {
      "name": "python"
    }
  },
  "cells": [
    {
      "cell_type": "markdown",
      "metadata": {
        "id": "view-in-github",
        "colab_type": "text"
      },
      "source": [
        "<a href=\"https://colab.research.google.com/github/sedatoner/Motion-tracking-and-logging-with-Raspberry-Pi-and-Camera/blob/main/motion_tracker.ipynb\" target=\"_parent\"><img src=\"https://colab.research.google.com/assets/colab-badge.svg\" alt=\"Open In Colab\"/></a>"
      ]
    },
    {
      "cell_type": "code",
      "execution_count": null,
      "metadata": {
        "id": "AXA2qRU4sSv0"
      },
      "outputs": [],
      "source": [
        "import cv2\n",
        "import datetime\n",
        "import os\n",
        "import csv\n",
        "import imutils\n",
        "\n",
        "# Klasörleri oluştur\n",
        "os.makedirs(\"captures\", exist_ok=True)\n",
        "os.makedirs(\"logs\", exist_ok=True)\n",
        "\n",
        "# Log dosyası\n",
        "log_path = \"logs/motion_log.csv\"\n",
        "if not os.path.exists(log_path):\n",
        "    with open(log_path, 'w', newline='') as f:\n",
        "        writer = csv.writer(f)\n",
        "        writer.writerow([\"Timestamp\", \"Image Path\"])\n",
        "\n",
        "# Kamera başlat\n",
        "cam = cv2.VideoCapture(0)\n",
        "first_frame = None\n",
        "\n",
        "while True:\n",
        "    ret, frame = cam.read()\n",
        "    if not ret:\n",
        "        break\n",
        "\n",
        "    frame = imutils.resize(frame, width=500)\n",
        "    gray = cv2.cvtColor(frame, cv2.COLOR_BGR2GRAY)\n",
        "    gray = cv2.GaussianBlur(gray, (21, 21), 0)\n",
        "\n",
        "    if first_frame is None:\n",
        "        first_frame = gray\n",
        "        continue\n",
        "\n",
        "    delta = cv2.absdiff(first_frame, gray)\n",
        "    thresh = cv2.threshold(delta, 25, 255, cv2.THRESH_BINARY)[1]\n",
        "    thresh = cv2.dilate(thresh, None, iterations=2)\n",
        "    contours, _ = cv2.findContours(thresh.copy(), cv2.RETR_EXTERNAL, cv2.CHAIN_APPROX_SIMPLE)\n",
        "\n",
        "    motion_detected = False\n",
        "\n",
        "    for contour in contours:\n",
        "        if cv2.contourArea(contour) < 800:\n",
        "            continue\n",
        "        motion_detected = True\n",
        "        (x, y, w, h) = cv2.boundingRect(contour)\n",
        "        cv2.rectangle(frame, (x, y), (x+w, y+h), (0, 255, 0), 2)\n",
        "\n",
        "    if motion_detected:\n",
        "        timestamp = datetime.datetime.now().strftime(\"%Y-%m-%d_%H-%M-%S\")\n",
        "        img_path = f\"captures/motion_{timestamp}.jpg\"\n",
        "        cv2.imwrite(img_path, frame)\n",
        "\n",
        "        with open(log_path, 'a', newline='') as f:\n",
        "            writer = csv.writer(f)\n",
        "            writer.writerow([timestamp, img_path])\n",
        "\n",
        "        print(f\"[{timestamp}] Motion detected! Image saved.\")\n",
        "\n",
        "    cv2.imshow(\"Live Feed\", frame)\n",
        "    key = cv2.waitKey(1)\n",
        "    if key == ord('q'):\n",
        "        break\n",
        "\n",
        "cam.release()\n",
        "cv2.destroyAllWindows()\n"
      ]
    }
  ]
}